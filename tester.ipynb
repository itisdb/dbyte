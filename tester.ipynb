{
 "cells": [
  {
   "cell_type": "markdown",
   "metadata": {},
   "source": [
    "##### This is the tester file. It is used to test the solution before implementing in the main fastapi solution."
   ]
  },
  {
   "cell_type": "code",
   "execution_count": 1,
   "metadata": {},
   "outputs": [
    {
     "name": "stdout",
     "output_type": "stream",
     "text": [
      "total 16\n",
      "drwxr-xr-x 5 hidryde hidryde 4096 Sep  4 11:58 \u001b[0m\u001b[01;34mfastapi\u001b[0m/\n",
      "-rw-r--r-- 1 hidryde hidryde  396 Sep 20 16:21 removeVenvnodules.py\n",
      "-rw-r--r-- 1 hidryde hidryde 1219 Oct  3 17:50 ReadMe.md\n",
      "drwxr-xr-x 4 hidryde hidryde 4096 Oct  3 17:50 \u001b[01;34mdbyteAPI\u001b[0m/\n",
      "-rw-r--r-- 1 hidryde hidryde    0 Oct  3 21:21 tester.ipynb\n"
     ]
    }
   ],
   "source": [
    "ls -ltr"
   ]
  },
  {
   "cell_type": "code",
   "execution_count": null,
   "metadata": {},
   "outputs": [],
   "source": []
  }
 ],
 "metadata": {
  "kernelspec": {
   "display_name": "venv",
   "language": "python",
   "name": "python3"
  },
  "language_info": {
   "codemirror_mode": {
    "name": "ipython",
    "version": 3
   },
   "file_extension": ".py",
   "mimetype": "text/x-python",
   "name": "python",
   "nbconvert_exporter": "python",
   "pygments_lexer": "ipython3",
   "version": "3.10.12"
  }
 },
 "nbformat": 4,
 "nbformat_minor": 2
}
